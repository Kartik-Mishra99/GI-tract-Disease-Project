{
  "nbformat": 4,
  "nbformat_minor": 0,
  "metadata": {
    "colab": {
      "name": "kvasir-hyperparameter_tuning-kerastuner.ipynb",
      "provenance": [],
      "collapsed_sections": []
    },
    "kernelspec": {
      "name": "python3",
      "display_name": "Python 3"
    },
    "accelerator": "GPU"
  },
  "cells": [
    {
      "cell_type": "code",
      "metadata": {
        "id": "uZnA_L3dBKAP",
        "colab_type": "code",
        "colab": {
          "base_uri": "https://localhost:8080/",
          "height": 125
        },
        "outputId": "d510457c-cf2a-4ae3-fd0f-adfa22290889"
      },
      "source": [
        "from google.colab import drive\n",
        "drive.mount('/content/drive')"
      ],
      "execution_count": 1,
      "outputs": [
        {
          "output_type": "stream",
          "text": [
            "Go to this URL in a browser: https://accounts.google.com/o/oauth2/auth?client_id=947318989803-6bn6qk8qdgf4n4g3pfee6491hc0brc4i.apps.googleusercontent.com&redirect_uri=urn%3aietf%3awg%3aoauth%3a2.0%3aoob&response_type=code&scope=email%20https%3a%2f%2fwww.googleapis.com%2fauth%2fdocs.test%20https%3a%2f%2fwww.googleapis.com%2fauth%2fdrive%20https%3a%2f%2fwww.googleapis.com%2fauth%2fdrive.photos.readonly%20https%3a%2f%2fwww.googleapis.com%2fauth%2fpeopleapi.readonly\n",
            "\n",
            "Enter your authorization code:\n",
            "··········\n",
            "Mounted at /content/drive\n"
          ],
          "name": "stdout"
        }
      ]
    },
    {
      "cell_type": "code",
      "metadata": {
        "id": "GPI5AyATDhJS",
        "colab_type": "code",
        "colab": {
          "base_uri": "https://localhost:8080/",
          "height": 532
        },
        "outputId": "d27e9bd4-6dfc-4a87-eaf7-4bacca2f1d41"
      },
      "source": [
        "!pip install keras-tuner"
      ],
      "execution_count": 2,
      "outputs": [
        {
          "output_type": "stream",
          "text": [
            "Collecting keras-tuner\n",
            "\u001b[?25l  Downloading https://files.pythonhosted.org/packages/a7/f7/4b41b6832abf4c9bef71a664dc563adb25afc5812831667c6db572b1a261/keras-tuner-1.0.1.tar.gz (54kB)\n",
            "\r\u001b[K     |██████                          | 10kB 33.9MB/s eta 0:00:01\r\u001b[K     |████████████                    | 20kB 5.9MB/s eta 0:00:01\r\u001b[K     |██████████████████              | 30kB 8.4MB/s eta 0:00:01\r\u001b[K     |████████████████████████        | 40kB 5.5MB/s eta 0:00:01\r\u001b[K     |██████████████████████████████  | 51kB 6.7MB/s eta 0:00:01\r\u001b[K     |████████████████████████████████| 61kB 4.5MB/s \n",
            "\u001b[?25hRequirement already satisfied: future in /usr/local/lib/python3.6/dist-packages (from keras-tuner) (0.16.0)\n",
            "Requirement already satisfied: numpy in /usr/local/lib/python3.6/dist-packages (from keras-tuner) (1.17.5)\n",
            "Requirement already satisfied: tabulate in /usr/local/lib/python3.6/dist-packages (from keras-tuner) (0.8.6)\n",
            "Collecting terminaltables\n",
            "  Downloading https://files.pythonhosted.org/packages/9b/c4/4a21174f32f8a7e1104798c445dacdc1d4df86f2f26722767034e4de4bff/terminaltables-3.1.0.tar.gz\n",
            "Collecting colorama\n",
            "  Downloading https://files.pythonhosted.org/packages/c9/dc/45cdef1b4d119eb96316b3117e6d5708a08029992b2fee2c143c7a0a5cc5/colorama-0.4.3-py2.py3-none-any.whl\n",
            "Requirement already satisfied: tqdm in /usr/local/lib/python3.6/dist-packages (from keras-tuner) (4.28.1)\n",
            "Requirement already satisfied: requests in /usr/local/lib/python3.6/dist-packages (from keras-tuner) (2.21.0)\n",
            "Requirement already satisfied: scipy in /usr/local/lib/python3.6/dist-packages (from keras-tuner) (1.4.1)\n",
            "Requirement already satisfied: scikit-learn in /usr/local/lib/python3.6/dist-packages (from keras-tuner) (0.22.1)\n",
            "Requirement already satisfied: urllib3<1.25,>=1.21.1 in /usr/local/lib/python3.6/dist-packages (from requests->keras-tuner) (1.24.3)\n",
            "Requirement already satisfied: chardet<3.1.0,>=3.0.2 in /usr/local/lib/python3.6/dist-packages (from requests->keras-tuner) (3.0.4)\n",
            "Requirement already satisfied: idna<2.9,>=2.5 in /usr/local/lib/python3.6/dist-packages (from requests->keras-tuner) (2.8)\n",
            "Requirement already satisfied: certifi>=2017.4.17 in /usr/local/lib/python3.6/dist-packages (from requests->keras-tuner) (2019.11.28)\n",
            "Requirement already satisfied: joblib>=0.11 in /usr/local/lib/python3.6/dist-packages (from scikit-learn->keras-tuner) (0.14.1)\n",
            "Building wheels for collected packages: keras-tuner, terminaltables\n",
            "  Building wheel for keras-tuner (setup.py) ... \u001b[?25l\u001b[?25hdone\n",
            "  Created wheel for keras-tuner: filename=keras_tuner-1.0.1-cp36-none-any.whl size=73199 sha256=e6922a01ae812acc55df40eb16970a5af13f37d60f103a8f90086e9a34db4d16\n",
            "  Stored in directory: /root/.cache/pip/wheels/b9/cc/62/52716b70dd90f3db12519233c3a93a5360bc672da1a10ded43\n",
            "  Building wheel for terminaltables (setup.py) ... \u001b[?25l\u001b[?25hdone\n",
            "  Created wheel for terminaltables: filename=terminaltables-3.1.0-cp36-none-any.whl size=15354 sha256=615ba123f2f04611b1238f9e0d03ad8dae7dc8efebb6f624ce01ba20169d0a10\n",
            "  Stored in directory: /root/.cache/pip/wheels/30/6b/50/6c75775b681fb36cdfac7f19799888ef9d8813aff9e379663e\n",
            "Successfully built keras-tuner terminaltables\n",
            "Installing collected packages: terminaltables, colorama, keras-tuner\n",
            "Successfully installed colorama-0.4.3 keras-tuner-1.0.1 terminaltables-3.1.0\n"
          ],
          "name": "stdout"
        }
      ]
    },
    {
      "cell_type": "code",
      "metadata": {
        "id": "T2tNy4emBO5p",
        "colab_type": "code",
        "colab": {
          "base_uri": "https://localhost:8080/",
          "height": 194
        },
        "outputId": "d230ce5c-9b4b-43ca-d292-2fd147419327"
      },
      "source": [
        "!pip install patool\n",
        "import patoolib\n",
        "patoolib.extract_archive(\"/content/drive/My Drive/kvasir-dataset.rar\", outdir=\"/content/\")"
      ],
      "execution_count": 3,
      "outputs": [
        {
          "output_type": "stream",
          "text": [
            "Collecting patool\n",
            "\u001b[?25l  Downloading https://files.pythonhosted.org/packages/43/94/52243ddff508780dd2d8110964320ab4851134a55ab102285b46e740f76a/patool-1.12-py2.py3-none-any.whl (77kB)\n",
            "\r\u001b[K     |████▎                           | 10kB 27.7MB/s eta 0:00:01\r\u001b[K     |████████▌                       | 20kB 4.9MB/s eta 0:00:01\r\u001b[K     |████████████▊                   | 30kB 5.5MB/s eta 0:00:01\r\u001b[K     |█████████████████               | 40kB 5.3MB/s eta 0:00:01\r\u001b[K     |█████████████████████▏          | 51kB 5.7MB/s eta 0:00:01\r\u001b[K     |█████████████████████████▍      | 61kB 6.8MB/s eta 0:00:01\r\u001b[K     |█████████████████████████████▋  | 71kB 6.7MB/s eta 0:00:01\r\u001b[K     |████████████████████████████████| 81kB 4.7MB/s \n",
            "\u001b[?25hInstalling collected packages: patool\n",
            "Successfully installed patool-1.12\n",
            "patool: Extracting /content/drive/My Drive/kvasir-dataset.rar ...\n",
            "patool: running /usr/bin/unrar x -- \"/content/drive/My Drive/kvasir-dataset.rar\"\n",
            "patool:     with cwd='/content/'\n",
            "patool: ... /content/drive/My Drive/kvasir-dataset.rar extracted to `/content/'.\n"
          ],
          "name": "stdout"
        },
        {
          "output_type": "execute_result",
          "data": {
            "text/plain": [
              "'/content/'"
            ]
          },
          "metadata": {
            "tags": []
          },
          "execution_count": 3
        }
      ]
    },
    {
      "cell_type": "code",
      "metadata": {
        "id": "DXjpvov2BQkX",
        "colab_type": "code",
        "colab": {
          "base_uri": "https://localhost:8080/",
          "height": 81
        },
        "outputId": "f2954eb8-3298-4dcc-e629-58b36197a5a3"
      },
      "source": [
        "import numpy as np\n",
        "import pandas as pd\n",
        "import matplotlib.pyplot as plt\n",
        "%matplotlib inline\n",
        "import cv2\n",
        "import os\n",
        "from glob import glob\n",
        "import tensorflow as tf\n",
        "import tensorflow.keras as keras\n",
        "from keras.regularizers import l1,l2\n",
        "from keras.models import Sequential\n",
        "from keras.layers import Dropout , BatchNormalization , Flatten , MaxPooling2D , Activation , Dense , Conv2D , InputLayer , MaxPool2D\n",
        "from keras.preprocessing.image import ImageDataGenerator\n",
        "from keras.layers import Input, Lambda, Dense, Flatten\n",
        "from keras.models import Model\n",
        "from kerastuner import RandomSearch\n",
        "from kerastuner.engine.hyperparameters import HyperParameters"
      ],
      "execution_count": 4,
      "outputs": [
        {
          "output_type": "display_data",
          "data": {
            "text/html": [
              "<p style=\"color: red;\">\n",
              "The default version of TensorFlow in Colab will soon switch to TensorFlow 2.x.<br>\n",
              "We recommend you <a href=\"https://www.tensorflow.org/guide/migrate\" target=\"_blank\">upgrade</a> now \n",
              "or ensure your notebook will continue to use TensorFlow 1.x via the <code>%tensorflow_version 1.x</code> magic:\n",
              "<a href=\"https://colab.research.google.com/notebooks/tensorflow_version.ipynb\" target=\"_blank\">more info</a>.</p>\n"
            ],
            "text/plain": [
              "<IPython.core.display.HTML object>"
            ]
          },
          "metadata": {
            "tags": []
          }
        },
        {
          "output_type": "stream",
          "text": [
            "Using TensorFlow backend.\n"
          ],
          "name": "stderr"
        }
      ]
    },
    {
      "cell_type": "code",
      "metadata": {
        "id": "HGRHey4ABZ-J",
        "colab_type": "code",
        "colab": {
          "base_uri": "https://localhost:8080/",
          "height": 268
        },
        "outputId": "0823fd00-d0f6-4d50-9990-2dfe6dfe52bf"
      },
      "source": [
        "DATADIR_train = '/content/kvasir-dataset/kvasir-dataset-v2/train'\n",
        "CATEGORIES= ['dyed-lifted-polyps' , 'dyed-resection-margins' , 'esophagitis' , 'normal-cecum' , 'normal-pylorus' , 'normal-z-line', 'polyps', 'ulcerative-colitis']\n",
        " \n",
        "for category in CATEGORIES:\n",
        "    path = os.path.join(DATADIR_train,category)\n",
        "    for img in os.listdir(path):\n",
        "        img_array=cv2.imread(os.path.join(path,img))#cv2.IMREAD_GRAYSCALE)\n",
        "        plt.imshow(img_array , cmap='gray')\n",
        "        break\n",
        "    break    "
      ],
      "execution_count": 5,
      "outputs": [
        {
          "output_type": "display_data",
          "data": {
            "image/png": "[encoded data removed]",
            "text/plain": [
              "<Figure size 432x288 with 1 Axes>"
            ]
          },
          "metadata": {
            "tags": []
          }
        }
      ]
    },
    {
      "cell_type": "code",
      "metadata": {
        "id": "y2FyTN8PBaBK",
        "colab_type": "code",
        "colab": {
          "base_uri": "https://localhost:8080/",
          "height": 267
        },
        "outputId": "73d23388-9ef9-4914-b972-aa5600006c77"
      },
      "source": [
        "IMG_SIZE=70\n",
        "new_array = cv2.resize(img_array , (IMG_SIZE,IMG_SIZE))\n",
        "plt.imshow(new_array , cmap='gray')\n",
        "plt.show()"
      ],
      "execution_count": 6,
      "outputs": [
        {
          "output_type": "display_data",
          "data": {
            "image/png": "[encoded data removed]",
            "text/plain": [
              "<Figure size 432x288 with 1 Axes>"
            ]
          },
          "metadata": {
            "tags": []
          }
        }
      ]
    },
    {
      "cell_type": "code",
      "metadata": {
        "id": "nCw3RdoIBaEA",
        "colab_type": "code",
        "colab": {}
      },
      "source": [
        "training_data=[]\n",
        "\n",
        "def create_training_data():\n",
        "    for category in CATEGORIES:\n",
        "        path = os.path.join(DATADIR_train,category)\n",
        "        class_num = CATEGORIES.index(category)  # giving number to each category or mapping each category to a no. \n",
        "        for img in os.listdir(path):\n",
        "            try:\n",
        "                img_array=cv2.imread(os.path.join(path,img))#cv2.IMREAD_GRAYSCALE)\n",
        "                new_array = cv2.resize(img_array , (IMG_SIZE,IMG_SIZE))\n",
        "                training_data.append([new_array , class_num])\n",
        "            except Exception as e:\n",
        "                pass\n",
        "        \n",
        "        \n",
        "create_training_data() "
      ],
      "execution_count": 0,
      "outputs": []
    },
    {
      "cell_type": "code",
      "metadata": {
        "id": "7pua0IiCBaJo",
        "colab_type": "code",
        "colab": {}
      },
      "source": [
        "X=[]\n",
        "y=[]\n",
        "for features,labels in training_data:\n",
        "    X.append(features)\n",
        "    y.append(labels)\n",
        "     "
      ],
      "execution_count": 0,
      "outputs": []
    },
    {
      "cell_type": "code",
      "metadata": {
        "id": "m3_K1mokBaNA",
        "colab_type": "code",
        "colab": {}
      },
      "source": [
        "from sklearn.model_selection import train_test_split\n",
        "X_train, X_test, y_train, y_test = train_test_split(X, y, test_size=0.25, random_state=42)\n",
        "\n",
        "X_test = np.array(X_test).reshape(-1,IMG_SIZE,IMG_SIZE,3)\n",
        "X_train = np.array(X_train).reshape(-1,IMG_SIZE,IMG_SIZE,3)\n",
        "\n",
        "X_train = X_train.astype(\"float32\")/255 \n",
        "X_test = X_test.astype(\"float32\")/255\n",
        "\n",
        "y_train = keras.utils.to_categorical(y_train , num_classes=8)\n",
        "y_test = keras.utils.to_categorical(y_test , num_classes=8)"
      ],
      "execution_count": 0,
      "outputs": []
    },
    {
      "cell_type": "code",
      "metadata": {
        "id": "WkIDk6jeDSlr",
        "colab_type": "code",
        "colab": {}
      },
      "source": [
        ""
      ],
      "execution_count": 0,
      "outputs": []
    },
    {
      "cell_type": "code",
      "metadata": {
        "id": "KasgCcsEBafA",
        "colab_type": "code",
        "colab": {}
      },
      "source": [
        "def build_model(hp):  \n",
        "  model = keras.Sequential([\n",
        "    keras.layers.Conv2D(\n",
        "        filters=hp.Int('conv_1_filter', min_value=32, max_value=128, step=16),\n",
        "        kernel_size=hp.Choice('conv_1_kernel', values = [2,5]),\n",
        "        activation='relu',\n",
        "        input_shape=(70,70,3)\n",
        "    ),\n",
        "    keras.layers.MaxPool2D(pool_size=2),\n",
        "    keras.layers.Conv2D(\n",
        "        filters=hp.Int('conv_2_filter', min_value=32, max_value=64, step=16),\n",
        "        kernel_size=hp.Choice('conv_2_kernel', values = [2,5]),\n",
        "        activation='relu'\n",
        "    ),\n",
        "    keras.layers.MaxPool2D(pool_size=2),\n",
        "    keras.layers.Conv2D(\n",
        "        filters=hp.Int('conv_3_filter', min_value=32, max_value=64, step=16),\n",
        "        kernel_size=hp.Choice('conv_3_kernel', values = [2,5]),\n",
        "        activation='relu'\n",
        "    ),\n",
        "    keras.layers.MaxPool2D(pool_size=2),\n",
        "    keras.layers.Conv2D(\n",
        "        filters=hp.Int('conv_4_filter', min_value=32, max_value=64, step=16),\n",
        "        kernel_size=hp.Choice('conv_4_kernel', values = [2,5]),\n",
        "        activation='relu'\n",
        "    ),\n",
        "    keras.layers.Flatten(),\n",
        "    keras.layers.Dense(\n",
        "        units=hp.Int('dense_1_units', min_value=32, max_value=128, step=16),\n",
        "        activation='relu'\n",
        "    ),\n",
        "    keras.layers.Dense(8, activation='softmax')\n",
        "  ])\n",
        "  \n",
        "  model.compile(optimizer=keras.optimizers.Adam(hp.Choice('learning_rate', values=[1e-2, 1e-3])),\n",
        "              loss='categorical_crossentropy',\n",
        "              metrics=['accuracy'])\n",
        "  \n",
        "  return model"
      ],
      "execution_count": 0,
      "outputs": []
    },
    {
      "cell_type": "code",
      "metadata": {
        "id": "OfWIgWpDEdLV",
        "colab_type": "code",
        "colab": {}
      },
      "source": [
        ""
      ],
      "execution_count": 0,
      "outputs": []
    },
    {
      "cell_type": "code",
      "metadata": {
        "id": "hSTIbSODBaio",
        "colab_type": "code",
        "colab": {}
      },
      "source": [
        "tuner_search=RandomSearch(build_model,\n",
        "                          objective='val_acc',\n",
        "                          max_trials=5,directory='output',project_name=\"kvasir_kerastuner\")"
      ],
      "execution_count": 0,
      "outputs": []
    },
    {
      "cell_type": "code",
      "metadata": {
        "id": "Z-M-j8wYBamA",
        "colab_type": "code",
        "colab": {
          "base_uri": "https://localhost:8080/",
          "height": 1000
        },
        "outputId": "58ed5e97-d112-4d09-d083-296343de0310"
      },
      "source": [
        "tuner_search.search(X_train,y_train,epochs=5,validation_data=(X_test,y_test))"
      ],
      "execution_count": 19,
      "outputs": [
        {
          "output_type": "stream",
          "text": [
            "Train on 6000 samples, validate on 2000 samples\n",
            "Epoch 1/5\n",
            "6000/6000 [==============================] - 2s 391us/sample - loss: 0.9642 - acc: 0.5775 - val_loss: 0.8701 - val_acc: 0.6195\n",
            "Epoch 2/5\n",
            "6000/6000 [==============================] - 2s 348us/sample - loss: 0.7041 - acc: 0.6765 - val_loss: 0.6825 - val_acc: 0.6890\n",
            "Epoch 3/5\n",
            "6000/6000 [==============================] - 2s 350us/sample - loss: 0.6397 - acc: 0.7122 - val_loss: 0.7493 - val_acc: 0.6660\n",
            "Epoch 4/5\n",
            "6000/6000 [==============================] - 2s 342us/sample - loss: 0.6120 - acc: 0.7320 - val_loss: 0.6157 - val_acc: 0.7145\n",
            "Epoch 5/5\n",
            "6000/6000 [==============================] - 2s 344us/sample - loss: 0.5737 - acc: 0.7382 - val_loss: 0.6385 - val_acc: 0.7140\n"
          ],
          "name": "stdout"
        },
        {
          "output_type": "display_data",
          "data": {
            "text/html": [
              "<span style=\"color:#4527A0\"><h1 style=\"font-size:18px\">Trial complete</h1></span>"
            ],
            "text/plain": [
              "<IPython.core.display.HTML object>"
            ]
          },
          "metadata": {
            "tags": []
          }
        },
        {
          "output_type": "display_data",
          "data": {
            "text/html": [
              "<span style=\"color:#4527A0\"><h1 style=\"font-size:18px\">Trial summary</h1></span>"
            ],
            "text/plain": [
              "<IPython.core.display.HTML object>"
            ]
          },
          "metadata": {
            "tags": []
          }
        },
        {
          "output_type": "display_data",
          "data": {
            "text/html": [
              "<span style=\"color:cyan\"> |-Trial ID: cf93a10f3b758e7a658ef53378d9cd44</span>"
            ],
            "text/plain": [
              "<IPython.core.display.HTML object>"
            ]
          },
          "metadata": {
            "tags": []
          }
        },
        {
          "output_type": "display_data",
          "data": {
            "text/html": [
              "<span style=\"color:cyan\"> |-Score: 0.7145000100135803</span>"
            ],
            "text/plain": [
              "<IPython.core.display.HTML object>"
            ]
          },
          "metadata": {
            "tags": []
          }
        },
        {
          "output_type": "display_data",
          "data": {
            "text/html": [
              "<span style=\"color:cyan\"> |-Best step: 0</span>"
            ],
            "text/plain": [
              "<IPython.core.display.HTML object>"
            ]
          },
          "metadata": {
            "tags": []
          }
        },
        {
          "output_type": "display_data",
          "data": {
            "text/html": [
              "<span style=\"color:#7E57C2\"><h2 style=\"font-size:16px\">Hyperparameters:</h2></span>"
            ],
            "text/plain": [
              "<IPython.core.display.HTML object>"
            ]
          },
          "metadata": {
            "tags": []
          }
        },
        {
          "output_type": "display_data",
          "data": {
            "text/html": [
              "<span style=\"color:cyan\"> |-conv_1_filter: 96</span>"
            ],
            "text/plain": [
              "<IPython.core.display.HTML object>"
            ]
          },
          "metadata": {
            "tags": []
          }
        },
        {
          "output_type": "display_data",
          "data": {
            "text/html": [
              "<span style=\"color:blue\"> |-conv_1_kernel: 2</span>"
            ],
            "text/plain": [
              "<IPython.core.display.HTML object>"
            ]
          },
          "metadata": {
            "tags": []
          }
        },
        {
          "output_type": "display_data",
          "data": {
            "text/html": [
              "<span style=\"color:cyan\"> |-conv_2_filter: 32</span>"
            ],
            "text/plain": [
              "<IPython.core.display.HTML object>"
            ]
          },
          "metadata": {
            "tags": []
          }
        },
        {
          "output_type": "display_data",
          "data": {
            "text/html": [
              "<span style=\"color:blue\"> |-conv_2_kernel: 5</span>"
            ],
            "text/plain": [
              "<IPython.core.display.HTML object>"
            ]
          },
          "metadata": {
            "tags": []
          }
        },
        {
          "output_type": "display_data",
          "data": {
            "text/html": [
              "<span style=\"color:cyan\"> |-conv_3_filter: 64</span>"
            ],
            "text/plain": [
              "<IPython.core.display.HTML object>"
            ]
          },
          "metadata": {
            "tags": []
          }
        },
        {
          "output_type": "display_data",
          "data": {
            "text/html": [
              "<span style=\"color:blue\"> |-conv_3_kernel: 2</span>"
            ],
            "text/plain": [
              "<IPython.core.display.HTML object>"
            ]
          },
          "metadata": {
            "tags": []
          }
        },
        {
          "output_type": "display_data",
          "data": {
            "text/html": [
              "<span style=\"color:cyan\"> |-conv_4_filter: 48</span>"
            ],
            "text/plain": [
              "<IPython.core.display.HTML object>"
            ]
          },
          "metadata": {
            "tags": []
          }
        },
        {
          "output_type": "display_data",
          "data": {
            "text/html": [
              "<span style=\"color:blue\"> |-conv_4_kernel: 2</span>"
            ],
            "text/plain": [
              "<IPython.core.display.HTML object>"
            ]
          },
          "metadata": {
            "tags": []
          }
        },
        {
          "output_type": "display_data",
          "data": {
            "text/html": [
              "<span style=\"color:cyan\"> |-dense_1_units: 48</span>"
            ],
            "text/plain": [
              "<IPython.core.display.HTML object>"
            ]
          },
          "metadata": {
            "tags": []
          }
        },
        {
          "output_type": "display_data",
          "data": {
            "text/html": [
              "<span style=\"color:blue\"> |-learning_rate: 0.001</span>"
            ],
            "text/plain": [
              "<IPython.core.display.HTML object>"
            ]
          },
          "metadata": {
            "tags": []
          }
        },
        {
          "output_type": "stream",
          "text": [
            "Train on 6000 samples, validate on 2000 samples\n",
            "Epoch 1/5\n",
            "6000/6000 [==============================] - 3s 431us/sample - loss: 1.5417 - acc: 0.3628 - val_loss: 0.9068 - val_acc: 0.5670\n",
            "Epoch 2/5\n",
            "6000/6000 [==============================] - 2s 388us/sample - loss: 0.8679 - acc: 0.5812 - val_loss: 0.8090 - val_acc: 0.6045\n",
            "Epoch 3/5\n",
            "6000/6000 [==============================] - 2s 383us/sample - loss: 0.7953 - acc: 0.6230 - val_loss: 0.8250 - val_acc: 0.6050\n",
            "Epoch 4/5\n",
            "6000/6000 [==============================] - 2s 388us/sample - loss: 0.7867 - acc: 0.6238 - val_loss: 0.7809 - val_acc: 0.6020\n",
            "Epoch 5/5\n",
            "6000/6000 [==============================] - 2s 385us/sample - loss: 0.7437 - acc: 0.6415 - val_loss: 0.7729 - val_acc: 0.6190\n"
          ],
          "name": "stdout"
        },
        {
          "output_type": "display_data",
          "data": {
            "text/html": [
              "<span style=\"color:#4527A0\"><h1 style=\"font-size:18px\">Trial complete</h1></span>"
            ],
            "text/plain": [
              "<IPython.core.display.HTML object>"
            ]
          },
          "metadata": {
            "tags": []
          }
        },
        {
          "output_type": "display_data",
          "data": {
            "text/html": [
              "<span style=\"color:#4527A0\"><h1 style=\"font-size:18px\">Trial summary</h1></span>"
            ],
            "text/plain": [
              "<IPython.core.display.HTML object>"
            ]
          },
          "metadata": {
            "tags": []
          }
        },
        {
          "output_type": "display_data",
          "data": {
            "text/html": [
              "<span style=\"color:cyan\"> |-Trial ID: 942280ac5f19d078e7ab9093cc1b1ef4</span>"
            ],
            "text/plain": [
              "<IPython.core.display.HTML object>"
            ]
          },
          "metadata": {
            "tags": []
          }
        },
        {
          "output_type": "display_data",
          "data": {
            "text/html": [
              "<span style=\"color:cyan\"> |-Score: 0.6190000176429749</span>"
            ],
            "text/plain": [
              "<IPython.core.display.HTML object>"
            ]
          },
          "metadata": {
            "tags": []
          }
        },
        {
          "output_type": "display_data",
          "data": {
            "text/html": [
              "<span style=\"color:cyan\"> |-Best step: 0</span>"
            ],
            "text/plain": [
              "<IPython.core.display.HTML object>"
            ]
          },
          "metadata": {
            "tags": []
          }
        },
        {
          "output_type": "display_data",
          "data": {
            "text/html": [
              "<span style=\"color:#7E57C2\"><h2 style=\"font-size:16px\">Hyperparameters:</h2></span>"
            ],
            "text/plain": [
              "<IPython.core.display.HTML object>"
            ]
          },
          "metadata": {
            "tags": []
          }
        },
        {
          "output_type": "display_data",
          "data": {
            "text/html": [
              "<span style=\"color:cyan\"> |-conv_1_filter: 112</span>"
            ],
            "text/plain": [
              "<IPython.core.display.HTML object>"
            ]
          },
          "metadata": {
            "tags": []
          }
        },
        {
          "output_type": "display_data",
          "data": {
            "text/html": [
              "<span style=\"color:blue\"> |-conv_1_kernel: 2</span>"
            ],
            "text/plain": [
              "<IPython.core.display.HTML object>"
            ]
          },
          "metadata": {
            "tags": []
          }
        },
        {
          "output_type": "display_data",
          "data": {
            "text/html": [
              "<span style=\"color:cyan\"> |-conv_2_filter: 48</span>"
            ],
            "text/plain": [
              "<IPython.core.display.HTML object>"
            ]
          },
          "metadata": {
            "tags": []
          }
        },
        {
          "output_type": "display_data",
          "data": {
            "text/html": [
              "<span style=\"color:blue\"> |-conv_2_kernel: 5</span>"
            ],
            "text/plain": [
              "<IPython.core.display.HTML object>"
            ]
          },
          "metadata": {
            "tags": []
          }
        },
        {
          "output_type": "display_data",
          "data": {
            "text/html": [
              "<span style=\"color:cyan\"> |-conv_3_filter: 48</span>"
            ],
            "text/plain": [
              "<IPython.core.display.HTML object>"
            ]
          },
          "metadata": {
            "tags": []
          }
        },
        {
          "output_type": "display_data",
          "data": {
            "text/html": [
              "<span style=\"color:blue\"> |-conv_3_kernel: 2</span>"
            ],
            "text/plain": [
              "<IPython.core.display.HTML object>"
            ]
          },
          "metadata": {
            "tags": []
          }
        },
        {
          "output_type": "display_data",
          "data": {
            "text/html": [
              "<span style=\"color:cyan\"> |-conv_4_filter: 48</span>"
            ],
            "text/plain": [
              "<IPython.core.display.HTML object>"
            ]
          },
          "metadata": {
            "tags": []
          }
        },
        {
          "output_type": "display_data",
          "data": {
            "text/html": [
              "<span style=\"color:blue\"> |-conv_4_kernel: 2</span>"
            ],
            "text/plain": [
              "<IPython.core.display.HTML object>"
            ]
          },
          "metadata": {
            "tags": []
          }
        },
        {
          "output_type": "display_data",
          "data": {
            "text/html": [
              "<span style=\"color:cyan\"> |-dense_1_units: 128</span>"
            ],
            "text/plain": [
              "<IPython.core.display.HTML object>"
            ]
          },
          "metadata": {
            "tags": []
          }
        },
        {
          "output_type": "display_data",
          "data": {
            "text/html": [
              "<span style=\"color:blue\"> |-learning_rate: 0.01</span>"
            ],
            "text/plain": [
              "<IPython.core.display.HTML object>"
            ]
          },
          "metadata": {
            "tags": []
          }
        },
        {
          "output_type": "stream",
          "text": [
            "Train on 6000 samples, validate on 2000 samples\n",
            "Epoch 1/5\n",
            "6000/6000 [==============================] - 2s 386us/sample - loss: 1.0625 - acc: 0.5298 - val_loss: 0.8197 - val_acc: 0.6030\n",
            "Epoch 2/5\n",
            "6000/6000 [==============================] - 2s 342us/sample - loss: 0.7345 - acc: 0.6645 - val_loss: 0.6647 - val_acc: 0.6985\n",
            "Epoch 3/5\n",
            "6000/6000 [==============================] - 2s 345us/sample - loss: 0.6768 - acc: 0.6908 - val_loss: 0.7573 - val_acc: 0.6520\n",
            "Epoch 4/5\n",
            "6000/6000 [==============================] - 2s 354us/sample - loss: 0.6172 - acc: 0.7097 - val_loss: 0.6242 - val_acc: 0.7095\n",
            "Epoch 5/5\n",
            "6000/6000 [==============================] - 2s 342us/sample - loss: 0.5878 - acc: 0.7318 - val_loss: 0.6318 - val_acc: 0.7240\n"
          ],
          "name": "stdout"
        },
        {
          "output_type": "display_data",
          "data": {
            "text/html": [
              "<span style=\"color:#4527A0\"><h1 style=\"font-size:18px\">Trial complete</h1></span>"
            ],
            "text/plain": [
              "<IPython.core.display.HTML object>"
            ]
          },
          "metadata": {
            "tags": []
          }
        },
        {
          "output_type": "display_data",
          "data": {
            "text/html": [
              "<span style=\"color:#4527A0\"><h1 style=\"font-size:18px\">Trial summary</h1></span>"
            ],
            "text/plain": [
              "<IPython.core.display.HTML object>"
            ]
          },
          "metadata": {
            "tags": []
          }
        },
        {
          "output_type": "display_data",
          "data": {
            "text/html": [
              "<span style=\"color:cyan\"> |-Trial ID: e44d3cd7405e19a105c2a7320c2fa494</span>"
            ],
            "text/plain": [
              "<IPython.core.display.HTML object>"
            ]
          },
          "metadata": {
            "tags": []
          }
        },
        {
          "output_type": "display_data",
          "data": {
            "text/html": [
              "<span style=\"color:cyan\"> |-Score: 0.7239999771118164</span>"
            ],
            "text/plain": [
              "<IPython.core.display.HTML object>"
            ]
          },
          "metadata": {
            "tags": []
          }
        },
        {
          "output_type": "display_data",
          "data": {
            "text/html": [
              "<span style=\"color:cyan\"> |-Best step: 0</span>"
            ],
            "text/plain": [
              "<IPython.core.display.HTML object>"
            ]
          },
          "metadata": {
            "tags": []
          }
        },
        {
          "output_type": "display_data",
          "data": {
            "text/html": [
              "<span style=\"color:#7E57C2\"><h2 style=\"font-size:16px\">Hyperparameters:</h2></span>"
            ],
            "text/plain": [
              "<IPython.core.display.HTML object>"
            ]
          },
          "metadata": {
            "tags": []
          }
        },
        {
          "output_type": "display_data",
          "data": {
            "text/html": [
              "<span style=\"color:cyan\"> |-conv_1_filter: 80</span>"
            ],
            "text/plain": [
              "<IPython.core.display.HTML object>"
            ]
          },
          "metadata": {
            "tags": []
          }
        },
        {
          "output_type": "display_data",
          "data": {
            "text/html": [
              "<span style=\"color:blue\"> |-conv_1_kernel: 2</span>"
            ],
            "text/plain": [
              "<IPython.core.display.HTML object>"
            ]
          },
          "metadata": {
            "tags": []
          }
        },
        {
          "output_type": "display_data",
          "data": {
            "text/html": [
              "<span style=\"color:cyan\"> |-conv_2_filter: 64</span>"
            ],
            "text/plain": [
              "<IPython.core.display.HTML object>"
            ]
          },
          "metadata": {
            "tags": []
          }
        },
        {
          "output_type": "display_data",
          "data": {
            "text/html": [
              "<span style=\"color:blue\"> |-conv_2_kernel: 5</span>"
            ],
            "text/plain": [
              "<IPython.core.display.HTML object>"
            ]
          },
          "metadata": {
            "tags": []
          }
        },
        {
          "output_type": "display_data",
          "data": {
            "text/html": [
              "<span style=\"color:cyan\"> |-conv_3_filter: 48</span>"
            ],
            "text/plain": [
              "<IPython.core.display.HTML object>"
            ]
          },
          "metadata": {
            "tags": []
          }
        },
        {
          "output_type": "display_data",
          "data": {
            "text/html": [
              "<span style=\"color:blue\"> |-conv_3_kernel: 5</span>"
            ],
            "text/plain": [
              "<IPython.core.display.HTML object>"
            ]
          },
          "metadata": {
            "tags": []
          }
        },
        {
          "output_type": "display_data",
          "data": {
            "text/html": [
              "<span style=\"color:cyan\"> |-conv_4_filter: 48</span>"
            ],
            "text/plain": [
              "<IPython.core.display.HTML object>"
            ]
          },
          "metadata": {
            "tags": []
          }
        },
        {
          "output_type": "display_data",
          "data": {
            "text/html": [
              "<span style=\"color:blue\"> |-conv_4_kernel: 5</span>"
            ],
            "text/plain": [
              "<IPython.core.display.HTML object>"
            ]
          },
          "metadata": {
            "tags": []
          }
        },
        {
          "output_type": "display_data",
          "data": {
            "text/html": [
              "<span style=\"color:cyan\"> |-dense_1_units: 80</span>"
            ],
            "text/plain": [
              "<IPython.core.display.HTML object>"
            ]
          },
          "metadata": {
            "tags": []
          }
        },
        {
          "output_type": "display_data",
          "data": {
            "text/html": [
              "<span style=\"color:blue\"> |-learning_rate: 0.001</span>"
            ],
            "text/plain": [
              "<IPython.core.display.HTML object>"
            ]
          },
          "metadata": {
            "tags": []
          }
        },
        {
          "output_type": "stream",
          "text": [
            "Train on 6000 samples, validate on 2000 samples\n",
            "Epoch 1/5\n",
            "6000/6000 [==============================] - 2s 330us/sample - loss: 1.0306 - acc: 0.5528 - val_loss: 0.7787 - val_acc: 0.6475\n",
            "Epoch 2/5\n",
            "6000/6000 [==============================] - 2s 279us/sample - loss: 0.7216 - acc: 0.6728 - val_loss: 0.6746 - val_acc: 0.7065\n",
            "Epoch 3/5\n",
            "6000/6000 [==============================] - 2s 278us/sample - loss: 0.6339 - acc: 0.7072 - val_loss: 0.6422 - val_acc: 0.7200\n",
            "Epoch 4/5\n",
            "6000/6000 [==============================] - 2s 278us/sample - loss: 0.6129 - acc: 0.7223 - val_loss: 0.6071 - val_acc: 0.7200\n",
            "Epoch 5/5\n",
            "6000/6000 [==============================] - 2s 276us/sample - loss: 0.5771 - acc: 0.7438 - val_loss: 0.6369 - val_acc: 0.7190\n"
          ],
          "name": "stdout"
        },
        {
          "output_type": "display_data",
          "data": {
            "text/html": [
              "<span style=\"color:#4527A0\"><h1 style=\"font-size:18px\">Trial complete</h1></span>"
            ],
            "text/plain": [
              "<IPython.core.display.HTML object>"
            ]
          },
          "metadata": {
            "tags": []
          }
        },
        {
          "output_type": "display_data",
          "data": {
            "text/html": [
              "<span style=\"color:#4527A0\"><h1 style=\"font-size:18px\">Trial summary</h1></span>"
            ],
            "text/plain": [
              "<IPython.core.display.HTML object>"
            ]
          },
          "metadata": {
            "tags": []
          }
        },
        {
          "output_type": "display_data",
          "data": {
            "text/html": [
              "<span style=\"color:cyan\"> |-Trial ID: 7f02b42f22bf8b3b0ad8e1915f2bda11</span>"
            ],
            "text/plain": [
              "<IPython.core.display.HTML object>"
            ]
          },
          "metadata": {
            "tags": []
          }
        },
        {
          "output_type": "display_data",
          "data": {
            "text/html": [
              "<span style=\"color:cyan\"> |-Score: 0.7200000286102295</span>"
            ],
            "text/plain": [
              "<IPython.core.display.HTML object>"
            ]
          },
          "metadata": {
            "tags": []
          }
        },
        {
          "output_type": "display_data",
          "data": {
            "text/html": [
              "<span style=\"color:cyan\"> |-Best step: 0</span>"
            ],
            "text/plain": [
              "<IPython.core.display.HTML object>"
            ]
          },
          "metadata": {
            "tags": []
          }
        },
        {
          "output_type": "display_data",
          "data": {
            "text/html": [
              "<span style=\"color:#7E57C2\"><h2 style=\"font-size:16px\">Hyperparameters:</h2></span>"
            ],
            "text/plain": [
              "<IPython.core.display.HTML object>"
            ]
          },
          "metadata": {
            "tags": []
          }
        },
        {
          "output_type": "display_data",
          "data": {
            "text/html": [
              "<span style=\"color:cyan\"> |-conv_1_filter: 80</span>"
            ],
            "text/plain": [
              "<IPython.core.display.HTML object>"
            ]
          },
          "metadata": {
            "tags": []
          }
        },
        {
          "output_type": "display_data",
          "data": {
            "text/html": [
              "<span style=\"color:blue\"> |-conv_1_kernel: 2</span>"
            ],
            "text/plain": [
              "<IPython.core.display.HTML object>"
            ]
          },
          "metadata": {
            "tags": []
          }
        },
        {
          "output_type": "display_data",
          "data": {
            "text/html": [
              "<span style=\"color:cyan\"> |-conv_2_filter: 32</span>"
            ],
            "text/plain": [
              "<IPython.core.display.HTML object>"
            ]
          },
          "metadata": {
            "tags": []
          }
        },
        {
          "output_type": "display_data",
          "data": {
            "text/html": [
              "<span style=\"color:blue\"> |-conv_2_kernel: 2</span>"
            ],
            "text/plain": [
              "<IPython.core.display.HTML object>"
            ]
          },
          "metadata": {
            "tags": []
          }
        },
        {
          "output_type": "display_data",
          "data": {
            "text/html": [
              "<span style=\"color:cyan\"> |-conv_3_filter: 64</span>"
            ],
            "text/plain": [
              "<IPython.core.display.HTML object>"
            ]
          },
          "metadata": {
            "tags": []
          }
        },
        {
          "output_type": "display_data",
          "data": {
            "text/html": [
              "<span style=\"color:blue\"> |-conv_3_kernel: 2</span>"
            ],
            "text/plain": [
              "<IPython.core.display.HTML object>"
            ]
          },
          "metadata": {
            "tags": []
          }
        },
        {
          "output_type": "display_data",
          "data": {
            "text/html": [
              "<span style=\"color:cyan\"> |-conv_4_filter: 48</span>"
            ],
            "text/plain": [
              "<IPython.core.display.HTML object>"
            ]
          },
          "metadata": {
            "tags": []
          }
        },
        {
          "output_type": "display_data",
          "data": {
            "text/html": [
              "<span style=\"color:blue\"> |-conv_4_kernel: 2</span>"
            ],
            "text/plain": [
              "<IPython.core.display.HTML object>"
            ]
          },
          "metadata": {
            "tags": []
          }
        },
        {
          "output_type": "display_data",
          "data": {
            "text/html": [
              "<span style=\"color:cyan\"> |-dense_1_units: 80</span>"
            ],
            "text/plain": [
              "<IPython.core.display.HTML object>"
            ]
          },
          "metadata": {
            "tags": []
          }
        },
        {
          "output_type": "display_data",
          "data": {
            "text/html": [
              "<span style=\"color:blue\"> |-learning_rate: 0.001</span>"
            ],
            "text/plain": [
              "<IPython.core.display.HTML object>"
            ]
          },
          "metadata": {
            "tags": []
          }
        },
        {
          "output_type": "stream",
          "text": [
            "Train on 6000 samples, validate on 2000 samples\n",
            "Epoch 1/5\n",
            "6000/6000 [==============================] - 2s 305us/sample - loss: 1.0251 - acc: 0.5308 - val_loss: 0.8728 - val_acc: 0.5840\n",
            "Epoch 2/5\n",
            "6000/6000 [==============================] - 2s 255us/sample - loss: 0.7080 - acc: 0.6760 - val_loss: 0.7092 - val_acc: 0.6780\n",
            "Epoch 3/5\n",
            "6000/6000 [==============================] - 2s 259us/sample - loss: 0.6319 - acc: 0.7067 - val_loss: 0.6502 - val_acc: 0.7015\n",
            "Epoch 4/5\n",
            "6000/6000 [==============================] - 2s 251us/sample - loss: 0.6045 - acc: 0.7205 - val_loss: 0.6102 - val_acc: 0.7155\n",
            "Epoch 5/5\n",
            "6000/6000 [==============================] - 2s 254us/sample - loss: 0.5778 - acc: 0.7312 - val_loss: 0.5953 - val_acc: 0.7275\n"
          ],
          "name": "stdout"
        },
        {
          "output_type": "display_data",
          "data": {
            "text/html": [
              "<span style=\"color:#4527A0\"><h1 style=\"font-size:18px\">Trial complete</h1></span>"
            ],
            "text/plain": [
              "<IPython.core.display.HTML object>"
            ]
          },
          "metadata": {
            "tags": []
          }
        },
        {
          "output_type": "display_data",
          "data": {
            "text/html": [
              "<span style=\"color:#4527A0\"><h1 style=\"font-size:18px\">Trial summary</h1></span>"
            ],
            "text/plain": [
              "<IPython.core.display.HTML object>"
            ]
          },
          "metadata": {
            "tags": []
          }
        },
        {
          "output_type": "display_data",
          "data": {
            "text/html": [
              "<span style=\"color:cyan\"> |-Trial ID: e5071a0b9dd1c9dfde4bcddb3a0e1322</span>"
            ],
            "text/plain": [
              "<IPython.core.display.HTML object>"
            ]
          },
          "metadata": {
            "tags": []
          }
        },
        {
          "output_type": "display_data",
          "data": {
            "text/html": [
              "<span style=\"color:cyan\"> |-Score: 0.7275000214576721</span>"
            ],
            "text/plain": [
              "<IPython.core.display.HTML object>"
            ]
          },
          "metadata": {
            "tags": []
          }
        },
        {
          "output_type": "display_data",
          "data": {
            "text/html": [
              "<span style=\"color:cyan\"> |-Best step: 0</span>"
            ],
            "text/plain": [
              "<IPython.core.display.HTML object>"
            ]
          },
          "metadata": {
            "tags": []
          }
        },
        {
          "output_type": "display_data",
          "data": {
            "text/html": [
              "<span style=\"color:#7E57C2\"><h2 style=\"font-size:16px\">Hyperparameters:</h2></span>"
            ],
            "text/plain": [
              "<IPython.core.display.HTML object>"
            ]
          },
          "metadata": {
            "tags": []
          }
        },
        {
          "output_type": "display_data",
          "data": {
            "text/html": [
              "<span style=\"color:cyan\"> |-conv_1_filter: 48</span>"
            ],
            "text/plain": [
              "<IPython.core.display.HTML object>"
            ]
          },
          "metadata": {
            "tags": []
          }
        },
        {
          "output_type": "display_data",
          "data": {
            "text/html": [
              "<span style=\"color:blue\"> |-conv_1_kernel: 2</span>"
            ],
            "text/plain": [
              "<IPython.core.display.HTML object>"
            ]
          },
          "metadata": {
            "tags": []
          }
        },
        {
          "output_type": "display_data",
          "data": {
            "text/html": [
              "<span style=\"color:cyan\"> |-conv_2_filter: 48</span>"
            ],
            "text/plain": [
              "<IPython.core.display.HTML object>"
            ]
          },
          "metadata": {
            "tags": []
          }
        },
        {
          "output_type": "display_data",
          "data": {
            "text/html": [
              "<span style=\"color:blue\"> |-conv_2_kernel: 2</span>"
            ],
            "text/plain": [
              "<IPython.core.display.HTML object>"
            ]
          },
          "metadata": {
            "tags": []
          }
        },
        {
          "output_type": "display_data",
          "data": {
            "text/html": [
              "<span style=\"color:cyan\"> |-conv_3_filter: 64</span>"
            ],
            "text/plain": [
              "<IPython.core.display.HTML object>"
            ]
          },
          "metadata": {
            "tags": []
          }
        },
        {
          "output_type": "display_data",
          "data": {
            "text/html": [
              "<span style=\"color:blue\"> |-conv_3_kernel: 5</span>"
            ],
            "text/plain": [
              "<IPython.core.display.HTML object>"
            ]
          },
          "metadata": {
            "tags": []
          }
        },
        {
          "output_type": "display_data",
          "data": {
            "text/html": [
              "<span style=\"color:cyan\"> |-conv_4_filter: 64</span>"
            ],
            "text/plain": [
              "<IPython.core.display.HTML object>"
            ]
          },
          "metadata": {
            "tags": []
          }
        },
        {
          "output_type": "display_data",
          "data": {
            "text/html": [
              "<span style=\"color:blue\"> |-conv_4_kernel: 5</span>"
            ],
            "text/plain": [
              "<IPython.core.display.HTML object>"
            ]
          },
          "metadata": {
            "tags": []
          }
        },
        {
          "output_type": "display_data",
          "data": {
            "text/html": [
              "<span style=\"color:cyan\"> |-dense_1_units: 48</span>"
            ],
            "text/plain": [
              "<IPython.core.display.HTML object>"
            ]
          },
          "metadata": {
            "tags": []
          }
        },
        {
          "output_type": "display_data",
          "data": {
            "text/html": [
              "<span style=\"color:blue\"> |-learning_rate: 0.001</span>"
            ],
            "text/plain": [
              "<IPython.core.display.HTML object>"
            ]
          },
          "metadata": {
            "tags": []
          }
        },
        {
          "output_type": "stream",
          "text": [
            "INFO:tensorflow:Oracle triggered exit\n"
          ],
          "name": "stdout"
        }
      ]
    },
    {
      "cell_type": "code",
      "metadata": {
        "id": "ykKdm8G0BaqY",
        "colab_type": "code",
        "colab": {}
      },
      "source": [
        "model=tuner_search.get_best_models(num_models=1)[0]"
      ],
      "execution_count": 0,
      "outputs": []
    },
    {
      "cell_type": "code",
      "metadata": {
        "id": "QDniJjo-FYIy",
        "colab_type": "code",
        "colab": {
          "base_uri": "https://localhost:8080/",
          "height": 514
        },
        "outputId": "b3e155f0-88fd-4456-d0c4-ac207b4b3336"
      },
      "source": [
        "model.summary()"
      ],
      "execution_count": 21,
      "outputs": [
        {
          "output_type": "stream",
          "text": [
            "Model: \"sequential\"\n",
            "_________________________________________________________________\n",
            "Layer (type)                 Output Shape              Param #   \n",
            "=================================================================\n",
            "conv2d (Conv2D)              (None, 69, 69, 48)        624       \n",
            "_________________________________________________________________\n",
            "max_pooling2d (MaxPooling2D) (None, 34, 34, 48)        0         \n",
            "_________________________________________________________________\n",
            "conv2d_1 (Conv2D)            (None, 33, 33, 48)        9264      \n",
            "_________________________________________________________________\n",
            "max_pooling2d_1 (MaxPooling2 (None, 16, 16, 48)        0         \n",
            "_________________________________________________________________\n",
            "conv2d_2 (Conv2D)            (None, 12, 12, 64)        76864     \n",
            "_________________________________________________________________\n",
            "max_pooling2d_2 (MaxPooling2 (None, 6, 6, 64)          0         \n",
            "_________________________________________________________________\n",
            "conv2d_3 (Conv2D)            (None, 2, 2, 64)          102464    \n",
            "_________________________________________________________________\n",
            "flatten (Flatten)            (None, 256)               0         \n",
            "_________________________________________________________________\n",
            "dense (Dense)                (None, 48)                12336     \n",
            "_________________________________________________________________\n",
            "dense_1 (Dense)              (None, 8)                 392       \n",
            "=================================================================\n",
            "Total params: 201,944\n",
            "Trainable params: 201,944\n",
            "Non-trainable params: 0\n",
            "_________________________________________________________________\n"
          ],
          "name": "stdout"
        }
      ]
    },
    {
      "cell_type": "code",
      "metadata": {
        "id": "PZUcuCGmTpCI",
        "colab_type": "code",
        "colab": {
          "base_uri": "https://localhost:8080/",
          "height": 1000
        },
        "outputId": "77e53b32-e5ff-419d-c637-1b26cf48a172"
      },
      "source": [
        "kerastunermodel = model.fit(X_train, y_train, epochs=30, validation_data=(X_test,y_test))"
      ],
      "execution_count": 22,
      "outputs": [
        {
          "output_type": "stream",
          "text": [
            "Train on 6000 samples, validate on 2000 samples\n",
            "Epoch 1/30\n",
            "6000/6000 [==============================] - 2s 271us/sample - loss: 0.5558 - acc: 0.7397 - val_loss: 0.5836 - val_acc: 0.7305\n",
            "Epoch 2/30\n",
            "6000/6000 [==============================] - 2s 251us/sample - loss: 0.5362 - acc: 0.7598 - val_loss: 0.5572 - val_acc: 0.7570\n",
            "Epoch 3/30\n",
            "6000/6000 [==============================] - 1s 248us/sample - loss: 0.5272 - acc: 0.7635 - val_loss: 0.5765 - val_acc: 0.7445\n",
            "Epoch 4/30\n",
            "6000/6000 [==============================] - 2s 255us/sample - loss: 0.4933 - acc: 0.7745 - val_loss: 0.5595 - val_acc: 0.7580\n",
            "Epoch 5/30\n",
            "6000/6000 [==============================] - 2s 252us/sample - loss: 0.4725 - acc: 0.7883 - val_loss: 0.5451 - val_acc: 0.7600\n",
            "Epoch 6/30\n",
            "6000/6000 [==============================] - 2s 253us/sample - loss: 0.4486 - acc: 0.7998 - val_loss: 0.5314 - val_acc: 0.7600\n",
            "Epoch 7/30\n",
            "6000/6000 [==============================] - 2s 250us/sample - loss: 0.4331 - acc: 0.8118 - val_loss: 0.5810 - val_acc: 0.7585\n",
            "Epoch 8/30\n",
            "6000/6000 [==============================] - 1s 247us/sample - loss: 0.4001 - acc: 0.8260 - val_loss: 0.5382 - val_acc: 0.7760\n",
            "Epoch 9/30\n",
            "6000/6000 [==============================] - 2s 251us/sample - loss: 0.3875 - acc: 0.8312 - val_loss: 0.6347 - val_acc: 0.7350\n",
            "Epoch 10/30\n",
            "6000/6000 [==============================] - 2s 257us/sample - loss: 0.3644 - acc: 0.8428 - val_loss: 0.6156 - val_acc: 0.7465\n",
            "Epoch 11/30\n",
            "6000/6000 [==============================] - 2s 264us/sample - loss: 0.3453 - acc: 0.8577 - val_loss: 0.5883 - val_acc: 0.7665\n",
            "Epoch 12/30\n",
            "6000/6000 [==============================] - 2s 252us/sample - loss: 0.3013 - acc: 0.8678 - val_loss: 0.6076 - val_acc: 0.7725\n",
            "Epoch 13/30\n",
            "6000/6000 [==============================] - 2s 253us/sample - loss: 0.2735 - acc: 0.8832 - val_loss: 0.6791 - val_acc: 0.7605\n",
            "Epoch 14/30\n",
            "6000/6000 [==============================] - 2s 255us/sample - loss: 0.2488 - acc: 0.8972 - val_loss: 0.6687 - val_acc: 0.7665\n",
            "Epoch 15/30\n",
            "6000/6000 [==============================] - 2s 251us/sample - loss: 0.2326 - acc: 0.9023 - val_loss: 0.7514 - val_acc: 0.7610\n",
            "Epoch 16/30\n",
            "6000/6000 [==============================] - 1s 249us/sample - loss: 0.1972 - acc: 0.9210 - val_loss: 0.7850 - val_acc: 0.7475\n",
            "Epoch 17/30\n",
            "6000/6000 [==============================] - 2s 254us/sample - loss: 0.1754 - acc: 0.9262 - val_loss: 0.8231 - val_acc: 0.7520\n",
            "Epoch 18/30\n",
            "6000/6000 [==============================] - 2s 267us/sample - loss: 0.1731 - acc: 0.9320 - val_loss: 0.9050 - val_acc: 0.7595\n",
            "Epoch 19/30\n",
            "6000/6000 [==============================] - 2s 263us/sample - loss: 0.1609 - acc: 0.9343 - val_loss: 0.9106 - val_acc: 0.7510\n",
            "Epoch 20/30\n",
            "6000/6000 [==============================] - 2s 253us/sample - loss: 0.1309 - acc: 0.9472 - val_loss: 0.9766 - val_acc: 0.7530\n",
            "Epoch 21/30\n",
            "6000/6000 [==============================] - 2s 252us/sample - loss: 0.1392 - acc: 0.9467 - val_loss: 1.1191 - val_acc: 0.7520\n",
            "Epoch 22/30\n",
            "6000/6000 [==============================] - 2s 257us/sample - loss: 0.1427 - acc: 0.9417 - val_loss: 0.9325 - val_acc: 0.7590\n",
            "Epoch 23/30\n",
            "6000/6000 [==============================] - 2s 256us/sample - loss: 0.1046 - acc: 0.9573 - val_loss: 1.1202 - val_acc: 0.7550\n",
            "Epoch 24/30\n",
            "6000/6000 [==============================] - 2s 252us/sample - loss: 0.1032 - acc: 0.9637 - val_loss: 1.2795 - val_acc: 0.7545\n",
            "Epoch 25/30\n",
            "6000/6000 [==============================] - 2s 251us/sample - loss: 0.1203 - acc: 0.9532 - val_loss: 1.0962 - val_acc: 0.7465\n",
            "Epoch 26/30\n",
            "6000/6000 [==============================] - 2s 251us/sample - loss: 0.0922 - acc: 0.9645 - val_loss: 1.1509 - val_acc: 0.7525\n",
            "Epoch 27/30\n",
            "6000/6000 [==============================] - 1s 246us/sample - loss: 0.0728 - acc: 0.9730 - val_loss: 1.2655 - val_acc: 0.7330\n",
            "Epoch 28/30\n",
            "6000/6000 [==============================] - 1s 249us/sample - loss: 0.1000 - acc: 0.9625 - val_loss: 1.1127 - val_acc: 0.7390\n",
            "Epoch 29/30\n",
            "6000/6000 [==============================] - 1s 242us/sample - loss: 0.0817 - acc: 0.9685 - val_loss: 1.2805 - val_acc: 0.7340\n",
            "Epoch 30/30\n",
            "6000/6000 [==============================] - 2s 256us/sample - loss: 0.0679 - acc: 0.9747 - val_loss: 1.3804 - val_acc: 0.7480\n"
          ],
          "name": "stdout"
        }
      ]
    },
    {
      "cell_type": "code",
      "metadata": {
        "id": "_16sFO8lT1k2",
        "colab_type": "code",
        "colab": {}
      },
      "source": [
        ""
      ],
      "execution_count": 0,
      "outputs": []
    },
    {
      "cell_type": "code",
      "metadata": {
        "id": "3q7sfzPBXEj5",
        "colab_type": "code",
        "colab": {}
      },
      "source": [
        ""
      ],
      "execution_count": 0,
      "outputs": []
    }
  ]
}